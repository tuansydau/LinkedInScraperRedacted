{
 "cells": [
  {
   "cell_type": "code",
   "execution_count": 1,
   "metadata": {},
   "outputs": [],
   "source": [
    "from selenium import webdriver\n",
    "from selenium.webdriver.common.keys import Keys\n",
    "import time\n",
    "import pandas as pd\n",
    "import numpy as np\n",
    "from parsel import Selector\n",
    "import xlrd\n",
    "import csv"
   ]
  },
  {
   "cell_type": "code",
   "execution_count": 4,
   "metadata": {},
   "outputs": [],
   "source": [
    "# get names into dataframe\n",
    "\n",
    "urlList = pd.read_csv('testUrls.csv')\n",
    "# urlList"
   ]
  },
  {
   "cell_type": "code",
   "execution_count": 3,
   "metadata": {},
   "outputs": [
    {
     "name": "stdout",
     "output_type": "stream",
     "text": [
      "Vivek W.\n",
      "Vice President Finance\n",
      "Lassonde Student Government\n",
      "York University\n",
      "vivek w\n",
      "Senior Analyst\n",
      "ANZ\n",
      "None\n",
      "Vivek W\n",
      "Sr. Art Director\n",
      "DDB\n",
      "None\n",
      "Amrita Basu\n",
      "Account Supervisor\n",
      "Mudra Communications\n",
      "None\n",
      "Anurag Saha\n",
      "Account Supervisor\n",
      "Ogilvy \n",
      "None\n",
      "Suchit Dhawan\n",
      "Management Supervisor\n",
      "Ogilvy\n",
      "IILM\n",
      "Anurag Saha\n",
      "Account Supervisor\n",
      "Ogilvy \n",
      "None\n",
      "Priyanka Chopra\n",
      "Actor\n",
      "Purple Pebble Pictures\n",
      "None\n",
      "Kai Zhuang\n",
      "Research Associate & Creative Provocatuer, Lassonde Futures Lab\n",
      "Lassonde School of Engineering\n",
      "None\n"
     ]
    }
   ],
   "source": [
    "# initialize browser, --incognito for cache/cookies\n",
    "option = webdriver.ChromeOptions()\n",
    "option.add_argument(\"— incognito\")\n",
    "\n",
    "# replace 'C:/bin/chromedriver.exe' to where chromedriver is installed on your system\n",
    "driver = webdriver.Chrome(executable_path='C:/bin/chromedriver.exe', options=option)\n",
    "# driver.get(\"https://ca.linkedin.com/in/vivekwadhwani12\")\n",
    "\n",
    "# https://www.linkedin.com/in/rakesh-kotla-853a74164?trk=public_profile_browsemap_profile-result-card_result-card_full-click\n",
    "# https://in.linkedin.com/in/vivek-w-05a6b888?trk=public_profile_samename_profile_profile-result-card_result-card_full-click\n",
    "# https://ca.linkedin.com/in/vivekwadhwani12\n",
    "# https://ca.linkedin.com/in/kaizhuang\n",
    "\n",
    "# find university\n",
    "# xpath to extract the first h1 text\n",
    "\n",
    "lurl = \"Redacted\"\n",
    "\n",
    "# print fields for testing\n",
    "def print_fields(url):\n",
    "    driver.get(url)\n",
    "    sel = Selector(text=driver.page_source)\n",
    "    name = sel.xpath('//h1/text()').extract_first()\n",
    "    print(name)\n",
    "    position = sel.xpath('//h3/text()').extract_first()\n",
    "    print(position)\n",
    "    company = sel.xpath('//div/h4/a/text()').get() # if this doesn't work, try .extract_first()\n",
    "    print(company)\n",
    "    school = sel.xpath('/html/body/main/section[1]/section/section[1]/div/div[1]/div[2]/div/div[2]/a/span/text()').get() # only works if the profile has activity, experience, and education profiles\n",
    "    print(school)\n",
    "    out_csv(name, position, company, school)\n",
    "\n",
    "#print the information to csv file\n",
    "def out_csv(name, position, company, school):\n",
    "    list1 = [name, position, company, school]\n",
    "\n",
    "    with open(r\"pathToFieldsCSV\", \"a\") as fp:\n",
    "        wr = csv.writer(fp, dialect='excel')\n",
    "        wr.writerow(list1)\n",
    "\n",
    "# get next url in list of urls\n",
    "# def getUrl(i):\n",
    "#    tempurl=urlList.url[i]\n",
    "#    return(tempurl)\n",
    "\n",
    "for lurls in urlList.url:\n",
    "    print_fields(lurls)\n",
    "\n",
    "# format csv\n",
    "finalCsv = pd.read_csv('fields.csv')\n",
    "finalCsv.dropna()\n",
    "finalCsv.to_csv('finalFields.csv')"
   ]
  },
  {
   "cell_type": "code",
   "execution_count": null,
   "metadata": {},
   "outputs": [],
   "source": []
  }
 ],
 "metadata": {
  "kernelspec": {
   "display_name": "Python 3",
   "language": "python",
   "name": "python3"
  },
  "language_info": {
   "codemirror_mode": {
    "name": "ipython",
    "version": 3
   },
   "file_extension": ".py",
   "mimetype": "text/x-python",
   "name": "python",
   "nbconvert_exporter": "python",
   "pygments_lexer": "ipython3",
   "version": "3.6.8"
  }
 },
 "nbformat": 4,
 "nbformat_minor": 2
}
